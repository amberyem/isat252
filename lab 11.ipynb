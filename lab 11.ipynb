{
 "cells": [
  {
   "cell_type": "markdown",
   "metadata": {},
   "source": [
    "# Download Census Data"
   ]
  },
  {
   "cell_type": "code",
   "execution_count": null,
   "metadata": {},
   "outputs": [],
   "source": [
    "from urllib import request\n",
    "import json\n",
    "from pprint import pprint\n",
    "\n",
    "\n",
    "census_api_key = '7460ce770c2791ef31fcaa86b69166af92c68ccb' #get your key from https://api.census.gov/data/key_signup.html\n",
    "\n",
    "\n",
    "url_str = 'https://api.census.gov/data/2016/acs/acs5?get=B01001_001E,NAME&for=county:*&in=state:51&key='+census_api_key # create the url of your census data\n",
    "\n",
    "response = request.urlopen(url_str) # read the response into computer\n",
    "\n",
    "html_str = response.read().decode(\"utf-8\") # convert the response into string\n",
    "if (html_str):\n",
    "    json_data = json.loads(html_str) # convert the string into json\n",
    "    print (json_data[0])\n",
    "    for v1,name,state,county in json_data[1:]:\n",
    "        print (v1,name,state,county )"
   ]
  },
  {
   "cell_type": "markdown",
   "metadata": {},
   "source": [
    "### 3.1"
   ]
  },
  {
   "cell_type": "code",
   "execution_count": 12,
   "metadata": {},
   "outputs": [
    {
     "name": "stdout",
     "output_type": "stream",
     "text": [
      "Fairfax County, Virginia has the largest pop, with 1132887 people.\n"
     ]
    }
   ],
   "source": [
    "from urllib import request\n",
    "import json\n",
    "from pprint import pprint\n",
    "\n",
    "\n",
    "census_api_key = '7460ce770c2791ef31fcaa86b69166af92c68ccb' #get your key from https://api.census.gov/data/key_signup.html\n",
    "\n",
    "\n",
    "url_str = 'https://api.census.gov/data/2016/acs/acs5?get=B01001_001E,NAME&for=county:*&in=state:51&key='+census_api_key # create the url of your census data\n",
    "\n",
    "response = request.urlopen(url_str) # read the response into computer\n",
    "maxpop = 0\n",
    "maxcounty = ' '\n",
    "html_str = response.read().decode(\"utf-8\") # convert the response into string\n",
    "if (html_str):\n",
    "    json_data = json.loads(html_str) # convert the string into json\n",
    "    for v1,name,state,county in json_data[1:]:\n",
    "        if maxpop <= int(v1):\n",
    "            maxpop = int(v1)\n",
    "            maxcounty = name\n",
    "    print (\"{} has the largest pop, with {} people.\".format(maxcounty,maxpop))"
   ]
  },
  {
   "cell_type": "markdown",
   "metadata": {},
   "source": [
    "### 3.2"
   ]
  },
  {
   "cell_type": "code",
   "execution_count": 11,
   "metadata": {},
   "outputs": [
    {
     "name": "stdout",
     "output_type": "stream",
     "text": [
      "Fairfax County, Virginia has the largest male pop, with 560803 males.\n"
     ]
    }
   ],
   "source": [
    "from urllib import request\n",
    "import json\n",
    "from pprint import pprint\n",
    "\n",
    "\n",
    "census_api_key = '7460ce770c2791ef31fcaa86b69166af92c68ccb' #get your key from https://api.census.gov/data/key_signup.html\n",
    "\n",
    "\n",
    "url_str = 'https://api.census.gov/data/2016/acs/acs5?get=B01001_002E,NAME&for=county:*&in=state:51&key='+census_api_key # create the url of your census data\n",
    "\n",
    "response = request.urlopen(url_str) # read the response into computer\n",
    "maxpop = 0\n",
    "maxcounty = ' '\n",
    "html_str = response.read().decode(\"utf-8\") # convert the response into string\n",
    "if (html_str):\n",
    "    json_data = json.loads(html_str) # convert the string into json\n",
    "    for v1,name,state,county in json_data[1:]:\n",
    "        if maxpop <= int(v1):\n",
    "            maxpop = int(v1)\n",
    "            maxcounty = name\n",
    "    print (\"{} has the largest male pop, with {} males.\".format(maxcounty,maxpop))"
   ]
  },
  {
   "cell_type": "markdown",
   "metadata": {},
   "source": [
    "### 3.3"
   ]
  },
  {
   "cell_type": "code",
   "execution_count": 16,
   "metadata": {},
   "outputs": [
    {
     "name": "stdout",
     "output_type": "stream",
     "text": [
      "['B01001_001E', 'B01001_002E', 'NAME', 'state', 'county']\n",
      "Sussex County, Virginia has a ratio of 0.6575470894059491 males to the total pop.\n"
     ]
    }
   ],
   "source": [
    "from urllib import request\n",
    "import json\n",
    "from pprint import pprint\n",
    "\n",
    "\n",
    "census_api_key = '7460ce770c2791ef31fcaa86b69166af92c68ccb' #get your key from https://api.census.gov/data/key_signup.html\n",
    "\n",
    "\n",
    "url_str = 'https://api.census.gov/data/2016/acs/acs5?get=B01001_001E,B01001_002E,NAME&for=county:*&in=state:51&key='+census_api_key # create the url of your census data\n",
    "\n",
    "response = request.urlopen(url_str) # read the response into computer\n",
    "maxpop = 0\n",
    "maxcounty = ' '\n",
    "html_str = response.read().decode(\"utf-8\") # convert the response into string\n",
    "if (html_str):\n",
    "    json_data = json.loads(html_str) # convert the string into json\n",
    "    print (json_data[0])\n",
    "    for v1,v2,name,state,county in json_data[1:]:\n",
    "        if maxpop <= int(v2)/int(v1):\n",
    "            maxpop = int(v2)/int(v1)\n",
    "            maxcounty = name\n",
    "    print (\"{} has a ratio of {} males to the total pop.\".format(maxcounty,maxpop))"
   ]
  },
  {
   "cell_type": "code",
   "execution_count": null,
   "metadata": {},
   "outputs": [],
   "source": []
  }
 ],
 "metadata": {
  "kernelspec": {
   "display_name": "conda_python3",
   "language": "python",
   "name": "conda_python3"
  },
  "language_info": {
   "codemirror_mode": {
    "name": "ipython",
    "version": 3
   },
   "file_extension": ".py",
   "mimetype": "text/x-python",
   "name": "python",
   "nbconvert_exporter": "python",
   "pygments_lexer": "ipython3",
   "version": "3.6.5"
  }
 },
 "nbformat": 4,
 "nbformat_minor": 4
}
