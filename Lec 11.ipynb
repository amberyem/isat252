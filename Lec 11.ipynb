{
 "cells": [
  {
   "cell_type": "markdown",
   "metadata": {},
   "source": [
    "# Read files into Python"
   ]
  },
  {
   "cell_type": "markdown",
   "metadata": {},
   "source": [
    "## Read Text Files"
   ]
  },
  {
   "cell_type": "code",
   "execution_count": null,
   "metadata": {},
   "outputs": [],
   "source": [
    "jmu_news = open('jmu_news.txt','r')\n",
    "\n",
    "news_content = jmu_news.read()\n",
    "\n",
    "print(news_content)"
   ]
  },
  {
   "cell_type": "markdown",
   "metadata": {},
   "source": [
    "Use with/as statement \n",
    "\n",
    "(more proper way than code above, allows files to be closed after execution)"
   ]
  },
  {
   "cell_type": "code",
   "execution_count": null,
   "metadata": {},
   "outputs": [],
   "source": [
    "with open('jmu_news.txt','r') as jmu_news:\n",
    "    print(jmu_news.read())"
   ]
  },
  {
   "cell_type": "markdown",
   "metadata": {},
   "source": [
    "Counter function"
   ]
  },
  {
   "cell_type": "code",
   "execution_count": null,
   "metadata": {},
   "outputs": [],
   "source": [
    "from collections import Counter     #always capital C\n",
    "\n",
    "count_result = Counter(['a','a','a','b','b','c'])\n",
    "\n",
    "print(count_result.most_common(2))   #returns 2 most common items\n",
    "\n",
    "for word,count in count_result.most_common(2):   #word,count >>>unpack\n",
    "    print(word,count)"
   ]
  },
  {
   "cell_type": "markdown",
   "metadata": {},
   "source": [
    "Count most common words in jmu news"
   ]
  },
  {
   "cell_type": "code",
   "execution_count": null,
   "metadata": {},
   "outputs": [],
   "source": [
    "with open('jmu_news.txt','r') as jmu_news:\n",
    "    news_content = jmu_news.read()\n",
    "    \n",
    "    word_list = news_content.split()\n",
    "    \n",
    "    count_result = Counter(word_list)\n",
    "    \n",
    "    for word,count in count_result.most_common(10):\n",
    "        print(word,count)"
   ]
  },
  {
   "cell_type": "markdown",
   "metadata": {},
   "source": [
    "list generator"
   ]
  },
  {
   "cell_type": "code",
   "execution_count": null,
   "metadata": {},
   "outputs": [],
   "source": [
    "num_list = [1,2,3,4]\n",
    "\n",
    "new_list = [num+1  for num in num_list]   #adds 1 to each item in list\n",
    "\n",
    "print(new_list)"
   ]
  },
  {
   "cell_type": "markdown",
   "metadata": {},
   "source": [
    "convert all the words of jmu news to lowercase"
   ]
  },
  {
   "cell_type": "code",
   "execution_count": null,
   "metadata": {},
   "outputs": [],
   "source": [
    "with open('jmu_news.txt','r') as jmu_news:\n",
    "    \n",
    "    news_content = jmu_news.read()\n",
    "    \n",
    "    word_list = news_content.split()\n",
    "    \n",
    "    lowcaselist = [word.lower for word in word_list]\n",
    "    \n",
    "    print(word_list)"
   ]
  },
  {
   "cell_type": "markdown",
   "metadata": {},
   "source": [
    "replacing words in a string"
   ]
  },
  {
   "cell_type": "code",
   "execution_count": null,
   "metadata": {},
   "outputs": [],
   "source": [
    "print(\"Tom's income is $60000.\")"
   ]
  },
  {
   "cell_type": "code",
   "execution_count": null,
   "metadata": {},
   "outputs": [],
   "source": [
    "print(\"{}'s income is ${}.\".format('Maddie',750))"
   ]
  },
  {
   "cell_type": "code",
   "execution_count": null,
   "metadata": {},
   "outputs": [],
   "source": [
    "print(\"{1}'s income is ${0}.\".format('Maddie',750))\n",
    "\n",
    "#indexing is possible"
   ]
  },
  {
   "cell_type": "markdown",
   "metadata": {},
   "source": [
    "## read JSON file"
   ]
  },
  {
   "cell_type": "code",
   "execution_count": null,
   "metadata": {},
   "outputs": [],
   "source": [
    "import json\n",
    "from pprint import pprint    #pprint makes it easier for me to read"
   ]
  },
  {
   "cell_type": "code",
   "execution_count": null,
   "metadata": {},
   "outputs": [],
   "source": [
    "with open('demo.json','r') as jsonfile:\n",
    "    \n",
    "    jsondict = json.load(jsonfile)  #load function makes file readable\n",
    "    \n",
    "    pprint(jsondict)"
   ]
  },
  {
   "cell_type": "code",
   "execution_count": null,
   "metadata": {},
   "outputs": [],
   "source": [
    "pprint(jsondict['id'])   #calling id value"
   ]
  },
  {
   "cell_type": "code",
   "execution_count": null,
   "metadata": {},
   "outputs": [],
   "source": [
    "pprint(jsondict['share']['share_count'])  \n",
    "\n",
    "#calling share count in nested directory"
   ]
  },
  {
   "cell_type": "markdown",
   "metadata": {},
   "source": [
    "## read data from websites"
   ]
  },
  {
   "cell_type": "code",
   "execution_count": null,
   "metadata": {},
   "outputs": [],
   "source": [
    "import urllib.request"
   ]
  },
  {
   "cell_type": "code",
   "execution_count": null,
   "metadata": {},
   "outputs": [],
   "source": [
    "url = 'http://www.jmu.edu'\n",
    "\n",
    "response = urllib.request.urlopen(url)  #requests data from the url it's opening\n",
    "\n",
    "webcontent = response.read()\n",
    "\n",
    "print(webcontent)"
   ]
  },
  {
   "cell_type": "code",
   "execution_count": null,
   "metadata": {},
   "outputs": [],
   "source": []
  }
 ],
 "metadata": {
  "kernelspec": {
   "display_name": "conda_python3",
   "language": "python",
   "name": "conda_python3"
  },
  "language_info": {
   "codemirror_mode": {
    "name": "ipython",
    "version": 3
   },
   "file_extension": ".py",
   "mimetype": "text/x-python",
   "name": "python",
   "nbconvert_exporter": "python",
   "pygments_lexer": "ipython3",
   "version": "3.6.5"
  }
 },
 "nbformat": 4,
 "nbformat_minor": 4
}
